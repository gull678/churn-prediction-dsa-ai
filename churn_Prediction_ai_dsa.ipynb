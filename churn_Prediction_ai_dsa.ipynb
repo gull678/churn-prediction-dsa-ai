{
  "nbformat": 4,
  "nbformat_minor": 0,
  "metadata": {
    "colab": {
      "provenance": []
    },
    "kernelspec": {
      "name": "python3",
      "display_name": "Python 3"
    },
    "language_info": {
      "name": "python"
    }
  },
  "cells": [
    {
      "cell_type": "code",
      "source": [
        "import csv\n",
        "from sklearn.model_selection import train_test_split\n",
        "from sklearn.linear_model import LogisticRegression\n",
        "from sklearn.metrics import accuracy_score\n",
        "\n",
        "class Node:\n",
        "    def __init__(self, data):\n",
        "        self.data = data\n",
        "        self.next = None\n",
        "\n",
        "class LinkedList:\n",
        "\n",
        "    def __init__(self):\n",
        "        self.head = None\n",
        "\n",
        "    def append(self, data):\n",
        "        new_node = Node(data)\n",
        "        if not self.head:\n",
        "            self.head = new_node\n",
        "            return\n",
        "        current = self.head\n",
        "        while current.next:\n",
        "            current = current.next\n",
        "        current.next = new_node\n",
        "\n",
        "    def count_churned(self):\n",
        "        current = self.head\n",
        "        churn_count = 0\n",
        "        while current:\n",
        "            if current.data == 1:\n",
        "                churn_count += 1\n",
        "            current = current.next\n",
        "        return churn_count\n",
        "\n",
        "\n",
        "def load_churn_data_to_linked_list(file_path):\n",
        "    linked_list = LinkedList()\n",
        "    features = []\n",
        "    labels = []\n",
        "\n",
        "    with open(file_path, 'r') as file:\n",
        "        reader = csv.DictReader(file)\n",
        "        for row in reader:\n",
        "            features.append([float(row['Age']), float(row['Balance']), float(row['CreditScore'])])\n",
        "            labels.append(int(row['Exited']))\n",
        "            linked_list.append(int(row['Exited']))\n",
        "\n",
        "    return linked_list, features, labels\n",
        "\n",
        "\n",
        "file_path = \"/content/drive/MyDrive/Customer-Churn-Records.csv\"\n",
        "churn_list, features, labels = load_churn_data_to_linked_list(file_path)\n",
        "\n",
        "counting_churn=churn_list.count_churned()\n",
        "print(\"total churns:\")\n",
        "print(counting_churn)\n",
        "x_train, x_test, y_train, y_test= train_test_split(features, labels, test_size=0.3, random_state=42)\n",
        "trained_model = LogisticRegression()\n",
        "trained_model.fit(x_train,y_train)\n",
        "\n",
        "y_pred=trained_model.predict(x_test)\n",
        "accuracy = accuracy_score(y_test, y_pred)\n",
        "print(\"Accuracy: \")\n",
        "print(accuracy)\n"
      ],
      "metadata": {
        "colab": {
          "base_uri": "https://localhost:8080/"
        },
        "id": "wxjZHhFBWTgH",
        "outputId": "1a1ca44f-7f90-43a6-a6c7-ad95b264ff35"
      },
      "execution_count": null,
      "outputs": [
        {
          "output_type": "stream",
          "name": "stdout",
          "text": [
            "customers who churned: 2038\n",
            "Accuracy: 78.80%\n"
          ]
        }
      ]
    }
  ]
}